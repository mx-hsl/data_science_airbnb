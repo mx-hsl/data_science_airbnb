{
 "cells": [
  {
   "cell_type": "code",
   "execution_count": 4,
   "metadata": {
    "pycharm": {
     "is_executing": true,
     "name": "#%%\n"
    }
   },
   "outputs": [],
   "source": [
    "import numpy as np\n",
    "import pandas as pd\n",
    "import matplotlib.pyplot as plt\n",
    "from sklearn.linear_model import LinearRegression\n",
    "from sklearn.model_selection import train_test_split\n",
    "from sklearn.metrics import r2_score, mean_squared_error\n",
    "import seaborn as sns\n",
    "%matplotlib inline\n"
   ]
  },
  {
   "cell_type": "markdown",
   "metadata": {},
   "source": [
    "**Gather Data for Seattle and Boston**"
   ]
  },
  {
   "cell_type": "code",
   "execution_count": 5,
   "metadata": {},
   "outputs": [],
   "source": [
    "# read calendar seattle\n",
    "df_cal_s = pd.read_csv('./calendar_seattle.csv')\n",
    "\n",
    "# read calendar boston\n",
    "df_cal_b = pd.read_csv('./calendar_boston.csv')\n"
   ]
  },
  {
   "cell_type": "markdown",
   "metadata": {},
   "source": [
    "**Access Data**"
   ]
  },
  {
   "cell_type": "code",
   "execution_count": 6,
   "metadata": {},
   "outputs": [
    {
     "data": {
      "text/html": [
       "<div>\n",
       "<style scoped>\n",
       "    .dataframe tbody tr th:only-of-type {\n",
       "        vertical-align: middle;\n",
       "    }\n",
       "\n",
       "    .dataframe tbody tr th {\n",
       "        vertical-align: top;\n",
       "    }\n",
       "\n",
       "    .dataframe thead th {\n",
       "        text-align: right;\n",
       "    }\n",
       "</style>\n",
       "<table border=\"1\" class=\"dataframe\">\n",
       "  <thead>\n",
       "    <tr style=\"text-align: right;\">\n",
       "      <th></th>\n",
       "      <th>listing_id</th>\n",
       "      <th>date</th>\n",
       "      <th>available</th>\n",
       "      <th>price</th>\n",
       "    </tr>\n",
       "  </thead>\n",
       "  <tbody>\n",
       "    <tr>\n",
       "      <th>0</th>\n",
       "      <td>12147973</td>\n",
       "      <td>2017-09-05</td>\n",
       "      <td>f</td>\n",
       "      <td>NaN</td>\n",
       "    </tr>\n",
       "    <tr>\n",
       "      <th>1</th>\n",
       "      <td>12147973</td>\n",
       "      <td>2017-09-04</td>\n",
       "      <td>f</td>\n",
       "      <td>NaN</td>\n",
       "    </tr>\n",
       "    <tr>\n",
       "      <th>2</th>\n",
       "      <td>12147973</td>\n",
       "      <td>2017-09-03</td>\n",
       "      <td>f</td>\n",
       "      <td>NaN</td>\n",
       "    </tr>\n",
       "    <tr>\n",
       "      <th>3</th>\n",
       "      <td>12147973</td>\n",
       "      <td>2017-09-02</td>\n",
       "      <td>f</td>\n",
       "      <td>NaN</td>\n",
       "    </tr>\n",
       "    <tr>\n",
       "      <th>4</th>\n",
       "      <td>12147973</td>\n",
       "      <td>2017-09-01</td>\n",
       "      <td>f</td>\n",
       "      <td>NaN</td>\n",
       "    </tr>\n",
       "  </tbody>\n",
       "</table>\n",
       "</div>"
      ],
      "text/plain": [
       "   listing_id        date available price\n",
       "0    12147973  2017-09-05         f   NaN\n",
       "1    12147973  2017-09-04         f   NaN\n",
       "2    12147973  2017-09-03         f   NaN\n",
       "3    12147973  2017-09-02         f   NaN\n",
       "4    12147973  2017-09-01         f   NaN"
      ]
     },
     "execution_count": 6,
     "metadata": {},
     "output_type": "execute_result"
    }
   ],
   "source": [
    "df_cal_s.head() # seattle\n",
    "df_cal_b.head() # boston "
   ]
  },
  {
   "cell_type": "markdown",
   "metadata": {},
   "source": [
    "Business Question 1\n",
    "How is the distribution of the home prices and are there differences between both cities?\n",
    "\n",
    "Data Preparation\n",
    "- dropping na price values because the na values dont provide information for this analysis\n",
    "- formatting datetime and using date as index\n",
    "- categorizing the price values in ranges to make the plot more expressive"
   ]
  },
  {
   "cell_type": "markdown",
   "metadata": {},
   "source": [
    "**Clean Data and analyze**"
   ]
  },
  {
   "cell_type": "code",
   "execution_count": 8,
   "metadata": {},
   "outputs": [
    {
     "name": "stdout",
     "output_type": "stream",
     "text": [
      "Seattle\n",
      "average price:  137.19222676140043\n",
      "occupancy rate (False: sold):  False    67.010986\n",
      "True     32.989014\n",
      "Name: price, dtype: float64\n",
      "Boston\n",
      "average price:  192.45390955690283\n",
      "occupancy rate (False: sold):  True     51.067775\n",
      "False    48.932225\n",
      "Name: price, dtype: float64\n"
     ]
    }
   ],
   "source": [
    "# clean price values\n",
    "df_cal_s['price'] = df_cal_s['price'].replace({'\\$':''}, regex = True).dropna().squeeze()\n",
    "df_cal_s['price'] = pd.to_numeric(df_cal_s['price'], errors='coerce')\n",
    "\n",
    "# format datetime\n",
    "df_cal_s['date'] = pd.to_datetime(df_cal_s[['date']].squeeze())\n",
    "df_cal_s = df_cal_s.set_index('date')\n",
    "\n",
    "# calc avg price and occupancy rate\n",
    "print('Seattle')\n",
    "print(\"average price: \",df_cal_s['price'].mean())\n",
    "print(\"occupancy rate (False: sold): \", df_cal_s['price'].isna().value_counts() / len(df_cal_s['price']) * 100)\n",
    "\n",
    "# clean price values\n",
    "df_cal_b['price'] = df_cal_b['price'].replace({'\\$':''}, regex = True).dropna().squeeze()\n",
    "df_cal_b['price'] = pd.to_numeric(df_cal_b['price'], errors='coerce')\n",
    "\n",
    "# format datetime\n",
    "df_cal_b['date'] = pd.to_datetime(df_cal_b[['date']].squeeze())\n",
    "df_cal_b = df_cal_b.set_index('date')\n",
    "\n",
    "# calc avg price and occupancy rate\n",
    "print('Boston')\n",
    "print(\"average price: \",df_cal_b['price'].mean())\n",
    "print(\"occupancy rate (False: sold): \", df_cal_b['price'].isna().value_counts() / len(df_cal_b['price']) * 100)\n",
    "\n"
   ]
  },
  {
   "cell_type": "markdown",
   "metadata": {},
   "source": [
    "**Data understanding:**\n",
    "- The average price is having a big different between both cities. Should be analysed if that´s changing with time.\n",
    "- The utilization of the homes seems to be different as well. The percentage of _False_ means the homes are sold. So in Boston there are much more home that are free. The offer seems to be  much higher than the request."
   ]
  },
  {
   "cell_type": "markdown",
   "metadata": {},
   "source": [
    "**Visualise data**"
   ]
  },
  {
   "cell_type": "code",
   "execution_count": 9,
   "metadata": {},
   "outputs": [
    {
     "data": {
      "image/png": "[encoded data removed]",
      "text/plain": [
       "<Figure size 432x288 with 1 Axes>"
      ]
     },
     "metadata": {
      "needs_background": "light"
     },
     "output_type": "display_data"
    }
   ],
   "source": [
    "# making a figure\n",
    "fig = plt.figure()\n",
    "\n",
    "# getting categories\n",
    "cat_s = pd.cut(df_cal_s['price'], bins=[0, 25, 50, 75, 100, 125, 150, 175, 200, 225, 250, 300, 500, 1000, 3000], include_lowest=True)\n",
    "cat_b = pd.cut(df_cal_b['price'], bins=[0, 25, 50, 75, 100, 125, 150, 175, 200, 225, 250, 300, 500, 1000, 3000], include_lowest=True)\n",
    "\n",
    "# count categories\n",
    "cat_counts_s = cat_s.value_counts(sort=False)/len(df_cal_s)\n",
    "cat_counts_b = cat_b.value_counts(sort=False)/len(df_cal_b)\n",
    "\n",
    "# plot categories\n",
    "cat_counts_s.plot(kind='bar', color='c', width = 0.4, position=1, label='Seattle', legend=True)\n",
    "cat_counts_b.plot(kind='bar', color='b', width = 0.4, position=0, label='Boston', legend=True)\n",
    "\n",
    "# plot layout\n",
    "plt.ylabel(\"price distribution\")\n",
    "plt.tight_layout()\n",
    "plt.show()\n",
    "\n",
    "# save fig\n",
    "fig.savefig('./occupany.png')"
   ]
  },
  {
   "cell_type": "markdown",
   "metadata": {},
   "source": [
    "Are there price changings during the year and is it caused by any events?\n",
    "- groupby date and using the mean value of all listings at the same time\n",
    "- rotating the date to make the axis ticks readable"
   ]
  },
  {
   "cell_type": "markdown",
   "metadata": {},
   "source": [
    "**Visualise data**"
   ]
  },
  {
   "cell_type": "code",
   "execution_count": 10,
   "metadata": {
    "pycharm": {
     "name": "#%%\n"
    }
   },
   "outputs": [
    {
     "data": {
      "image/png": "[encoded data removed]",
      "text/plain": [
       "<Figure size 432x288 with 1 Axes>"
      ]
     },
     "metadata": {
      "needs_background": "light"
     },
     "output_type": "display_data"
    }
   ],
   "source": [
    "# Start and end of the date range to extract\n",
    "start, end = '2014-01', '2023-01'\n",
    "# Plot daily and weekly resampled time series together\n",
    "fig, ax = plt.subplots()\n",
    "\n",
    "ax.plot(df_cal_s.loc[start:end, 'price'].groupby('date').mean(), marker='.', linestyle='-', color='c', markersize=1, label='Seattle')\n",
    "ax.plot(df_cal_b.loc[start:end, 'price'].groupby('date').mean(), marker='.', linestyle='-', color='b', markersize=1, label='Boston')\n",
    "\n",
    "ax.set_ylabel('avg price [$]')\n",
    "ax.legend()\n",
    "plt.xticks(rotation=90)\n",
    "plt.tight_layout()\n",
    "fig = ax.get_figure()\n",
    "fig.savefig('./avg_price.png')"
   ]
  },
  {
   "cell_type": "markdown",
   "metadata": {},
   "source": [
    "**Data understanding:**\n",
    "- in Jan/Feb/March the prices are low but rise untill midsommer and go down again untill the winter months\n",
    "- crazy price drop in Boston - maybe the prices were too high and the request for the homes were too low\n",
    "- in April there must have been a local event in Boston causing this price peak"
   ]
  },
  {
   "cell_type": "markdown",
   "metadata": {},
   "source": [
    "not used analysis - I wanted to make a plot about the utilization of the homes."
   ]
  },
  {
   "cell_type": "code",
   "execution_count": 11,
   "metadata": {},
   "outputs": [
    {
     "ename": "NameError",
     "evalue": "name 'auslastung' is not defined",
     "output_type": "error",
     "traceback": [
      "\u001b[1;31m---------------------------------------------------------------------------\u001b[0m",
      "\u001b[1;31mNameError\u001b[0m                                 Traceback (most recent call last)",
      "\u001b[1;32m<ipython-input-11-8f4cea107d5b>\u001b[0m in \u001b[0;36m<module>\u001b[1;34m\u001b[0m\n\u001b[0;32m      4\u001b[0m \u001b[0mauslastung_s\u001b[0m \u001b[1;33m=\u001b[0m \u001b[0mdf_s\u001b[0m\u001b[1;33m.\u001b[0m\u001b[0mgroupby\u001b[0m\u001b[1;33m(\u001b[0m\u001b[1;34m'date'\u001b[0m\u001b[1;33m)\u001b[0m\u001b[1;33m[\u001b[0m\u001b[1;34m'available'\u001b[0m\u001b[1;33m]\u001b[0m\u001b[1;33m.\u001b[0m\u001b[0mvalue_counts\u001b[0m\u001b[1;33m(\u001b[0m\u001b[1;33m)\u001b[0m\u001b[1;33m\u001b[0m\u001b[1;33m\u001b[0m\u001b[0m\n\u001b[0;32m      5\u001b[0m \u001b[1;31m#auslastung_b = df_b.groupby('date')['available'].value_counts()\u001b[0m\u001b[1;33m\u001b[0m\u001b[1;33m\u001b[0m\u001b[1;33m\u001b[0m\u001b[0m\n\u001b[1;32m----> 6\u001b[1;33m \u001b[0mprint\u001b[0m\u001b[1;33m(\u001b[0m\u001b[0mauslastung\u001b[0m\u001b[1;33m)\u001b[0m\u001b[1;33m\u001b[0m\u001b[1;33m\u001b[0m\u001b[0m\n\u001b[0m\u001b[0;32m      7\u001b[0m \u001b[0mauslastung_s\u001b[0m\u001b[1;33m.\u001b[0m\u001b[0mplot\u001b[0m\u001b[1;33m(\u001b[0m\u001b[1;33m)\u001b[0m\u001b[1;33m\u001b[0m\u001b[1;33m\u001b[0m\u001b[0m\n\u001b[0;32m      8\u001b[0m \u001b[1;31m#auslastung_b.plot()\u001b[0m\u001b[1;33m\u001b[0m\u001b[1;33m\u001b[0m\u001b[1;33m\u001b[0m\u001b[0m\n",
      "\u001b[1;31mNameError\u001b[0m: name 'auslastung' is not defined"
     ]
    }
   ],
   "source": [
    "#print(df_cal_s)\n",
    "df_s = df_cal_s[df_cal_s.available != 'f']\n",
    "#df_b = df_cal_b[df_cal_s.available != 'f']\n",
    "auslastung_s = df_s.groupby('date')['available'].value_counts()\n",
    "#auslastung_b = df_b.groupby('date')['available'].value_counts()\n",
    "print(auslastung)\n",
    "auslastung_s.plot()\n",
    "#auslastung_b.plot()"
   ]
  },
  {
   "cell_type": "markdown",
   "metadata": {},
   "source": [
    "Are there different weighted influences for the total review score value?\n",
    "Making a linear model to predict the **review_scores_rating** to see which coefs are most \n",
    "significant. Comparing the output of seattle and boston."
   ]
  },
  {
   "cell_type": "markdown",
   "metadata": {},
   "source": [
    "including some functions of the lesson"
   ]
  },
  {
   "cell_type": "code",
   "execution_count": 12,
   "metadata": {},
   "outputs": [],
   "source": [
    "def create_dummy_df(df, cat_cols, dummy_na):\n",
    "    '''\n",
    "    INPUT:\n",
    "    df - pandas dataframe with categorical variables you want to dummy\n",
    "    cat_cols - list of strings that are associated with names of the categorical columns\n",
    "    dummy_na - Bool holding whether you want to dummy NA vals of categorical columns or not\n",
    "    \n",
    "    OUTPUT:\n",
    "    df - a new dataframe that has the following characteristics:\n",
    "            1. contains all columns that were not specified as categorical\n",
    "            2. removes all the original columns in cat_cols\n",
    "            3. dummy columns for each of the categorical columns in cat_cols\n",
    "            4. if dummy_na is True - it also contains dummy columns for the NaN values\n",
    "            5. Use a prefix of the column name with an underscore (_) for separating \n",
    "    '''\n",
    "    for col in  cat_cols:\n",
    "        try:\n",
    "            # for each cat add dummy var, drop original column\n",
    "            df = pd.concat([df.drop(col, axis=1), pd.get_dummies(df[col], prefix=col, prefix_sep='_', drop_first=True, dummy_na=dummy_na)], axis=1)\n",
    "        except:\n",
    "            continue\n",
    "            \n",
    "    return df"
   ]
  },
  {
   "cell_type": "code",
   "execution_count": 13,
   "metadata": {
    "pycharm": {
     "name": "#%%\n"
    }
   },
   "outputs": [],
   "source": [
    "def clean_fit_linear_mod(df, response_col, cat_cols, dummy_na, test_size=.3, rand_state=42):\n",
    "    '''\n",
    "    INPUT:\n",
    "    df - a dataframe holding all the variables of interest\n",
    "    response_col - a string holding the name of the column \n",
    "    cat_cols - list of strings that are associated with names of the categorical columns\n",
    "    dummy_na - Bool holding whether you want to dummy NA vals of categorical columns or not\n",
    "    test_size - a float between [0,1] about what proportion of data should be in the test dataset\n",
    "    rand_state - an int that is provided as the random state for splitting the data into training and test \n",
    "\n",
    "    OUTPUT:\n",
    "    test_score - float - r2 score on the test data\n",
    "    train_score - float - r2 score on the test data\n",
    "    lm_model - model object from sklearn\n",
    "    X_train, X_test, y_train, y_test - output from sklearn train test split used for optimal model\n",
    "\n",
    "    Your function should:\n",
    "    1. Drop the rows with missing response values\n",
    "    2. Drop columns with NaN for all the values\n",
    "    3. Use create_dummy_df to dummy categorical columns\n",
    "    4. Fill the mean of the column for any missing values \n",
    "    5. Split your data into an X matrix and a response vector y\n",
    "    6. Create training and test sets of data\n",
    "    7. Instantiate a LinearRegression model with normalized data\n",
    "    8. Fit your model to the training data\n",
    "    9. Predict the response for the training data and the test data\n",
    "    10. Obtain an rsquared value for both the training and test data\n",
    "    '''\n",
    "\n",
    "    # Drop the rows with missing response values\n",
    "    df  = df.dropna(subset=[response_col], axis=0)\n",
    "\n",
    "    # Drop columns with all NaN values\n",
    "    df = df.dropna(how='all', axis=1)\n",
    "\n",
    "    # Dummy categorical variables\n",
    "    df = create_dummy_df(df, cat_cols, dummy_na)\n",
    "\n",
    "    # Mean function\n",
    "    fill_mean = lambda col: col.fillna(col.mean())\n",
    "    # Fill the mean\n",
    "    df = df.apply(fill_mean, axis=0)\n",
    "\n",
    "    # Split into explanatory and response variables\n",
    "    X = df.drop(columns=[response_col], axis=1)\n",
    "    y = df[response_col]\n",
    "\n",
    "    # Split into train and test\n",
    "    X_train, X_test, y_train, y_test = train_test_split(X, y, test_size=test_size, random_state=rand_state)\n",
    "\n",
    "    lm_model = LinearRegression(normalize=True) # Instantiate\n",
    "    lm_model.fit(X_train, y_train) # Fit\n",
    "\n",
    "    # Predict using your model\n",
    "    y_test_preds = lm_model.predict(X_test)\n",
    "    y_train_preds = lm_model.predict(X_train)\n",
    "\n",
    "    # Score using your model\n",
    "    test_score = r2_score(y_test, y_test_preds)\n",
    "    train_score = r2_score(y_train, y_train_preds)\n",
    "\n",
    "    return test_score, train_score, lm_model, X_train, X_test, y_train, y_test"
   ]
  },
  {
   "cell_type": "code",
   "execution_count": 14,
   "metadata": {},
   "outputs": [],
   "source": [
    "def coef_weights(coefficients, X_train):\n",
    "    '''\n",
    "    INPUT:\n",
    "    coefficients - the coefficients of the linear model \n",
    "    X_train - the training data, so the column names can be used\n",
    "    OUTPUT:\n",
    "    coefs_df - a dataframe holding the coefficient, estimate, and abs(estimate)\n",
    "    \n",
    "    Provides a dataframe that can be used to understand the most influential coefficients\n",
    "    in a linear model by providing the coefficient estimates along with the name of the \n",
    "    variable attached to the coefficient.\n",
    "    '''\n",
    "    coefs_df = pd.DataFrame()\n",
    "    coefs_df['est_int'] = X_train.columns\n",
    "    coefs_df['coefs'] = lm_model.coef_\n",
    "    coefs_df['abs_coefs'] = np.abs(lm_model.coef_)\n",
    "    coefs_df = coefs_df.sort_values('abs_coefs', ascending=False)\n",
    "    return coefs_df"
   ]
  },
  {
   "cell_type": "markdown",
   "metadata": {},
   "source": [
    "**Gather & Assess Data**"
   ]
  },
  {
   "cell_type": "code",
   "execution_count": 15,
   "metadata": {},
   "outputs": [],
   "source": [
    "# Read in linstings data and store in a list\n",
    "df_lis_s = pd.read_csv('./listings_seattle.csv')\n",
    "df_lis_b = pd.read_csv('./listings_boston.csv')\n",
    "df_lists = [df_lis_s, df_lis_b]"
   ]
  },
  {
   "cell_type": "markdown",
   "metadata": {},
   "source": [
    "**Clean data - analyze and model**"
   ]
  },
  {
   "cell_type": "code",
   "execution_count": 17,
   "metadata": {},
   "outputs": [
    {
     "name": "stdout",
     "output_type": "stream",
     "text": [
      "test_score, train_score:  -190.06134734358062 -212.10421669598512\n",
      "test_score, train_score:  0.7075743811567 0.7986075716094313\n"
     ]
    }
   ],
   "source": [
    "# Loop for seattle and boston\n",
    "for df_list in df_lists:\n",
    "    \n",
    "    # Filter for categorical variables\n",
    "    df_cat = df_list.select_dtypes(include=[np.number])\n",
    "    cat_cols_lst = df_cat.select_dtypes(include=['object']).columns\n",
    "\n",
    "    # Value of interest:\n",
    "    response_col = 'review_scores_rating' \n",
    "    \n",
    "    # Clean and fit linear model\n",
    "    test_score, train_score, lm_model, X_train, X_test, y_train, y_test = clean_fit_linear_mod(df_cat, 'review_scores_rating', cat_cols_lst, dummy_na=False)\n",
    "    print(\"test_score, train_score: \", test_score, train_score)\n",
    "\n",
    "    # Calc the coef weights\n",
    "    coef_df = coef_weights(lm_model.coef_, X_train)"
   ]
  },
  {
   "cell_type": "markdown",
   "metadata": {},
   "source": [
    "**Visualize coefs with weights**"
   ]
  },
  {
   "cell_type": "code",
   "execution_count": 18,
   "metadata": {},
   "outputs": [
    {
     "name": "stdout",
     "output_type": "stream",
     "text": [
      "                           est_int     coefs  abs_coefs\n",
      "25             review_scores_value  2.929826   2.929826\n",
      "21       review_scores_cleanliness  2.703228   2.703228\n",
      "22           review_scores_checkin  1.688343   1.688343\n",
      "23     review_scores_communication  1.650156   1.650156\n",
      "6                        longitude  1.495893   1.495893\n",
      "20          review_scores_accuracy  1.473371   1.473371\n",
      "5                         latitude  1.330772   1.330772\n",
      "24          review_scores_location  0.612614   0.612614\n",
      "9                         bedrooms  0.330221   0.330221\n",
      "27               reviews_per_month -0.249368   0.249368\n",
      "8                        bathrooms  0.199281   0.199281\n",
      "7                     accommodates -0.189503   0.189503\n",
      "10                            beds  0.175778   0.175778\n",
      "12                 guests_included  0.088851   0.088851\n",
      "15                 availability_30 -0.034356   0.034356\n",
      "13                  minimum_nights -0.024564   0.024564\n",
      "26  calculated_host_listings_count -0.017771   0.017771\n",
      "16                 availability_60  0.010719   0.010719\n",
      "19               number_of_reviews  0.006389   0.006389\n",
      "3              host_listings_count  0.002396   0.002396\n"
     ]
    }
   ],
   "source": [
    "# relevant for my analysis are just the review scores\n",
    "review_scores = ['review_scores_location','review_scores_value','review_scores_cleanliness','review_scores_checkin', 'review_scores_accuracy','review_scores_communication']\n",
    "\n",
    "# Show the 20 most significant influencing variables\n",
    "print(coef_df.head(20))"
   ]
  },
  {
   "cell_type": "markdown",
   "metadata": {},
   "source": [
    "**Data understanding:**\n",
    "- value and cleanliness are most important for customers in both countries\n"
   ]
  },
  {
   "cell_type": "code",
   "execution_count": null,
   "metadata": {},
   "outputs": [],
   "source": []
  }
 ],
 "metadata": {
  "kernelspec": {
   "display_name": "Python 3",
   "language": "python",
   "name": "python3"
  },
  "language_info": {
   "codemirror_mode": {
    "name": "ipython",
    "version": 3
   },
   "file_extension": ".py",
   "mimetype": "text/x-python",
   "name": "python",
   "nbconvert_exporter": "python",
   "pygments_lexer": "ipython3",
   "version": "3.7.6"
  },
  "pycharm": {
   "stem_cell": {
    "cell_type": "raw",
    "metadata": {
     "collapsed": false
    },
    "source": []
   }
  }
 },
 "nbformat": 4,
 "nbformat_minor": 4
}
