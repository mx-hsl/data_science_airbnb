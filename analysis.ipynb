{
 "cells": [
  {
   "cell_type": "code",
   "execution_count": 30,
   "metadata": {
    "pycharm": {
     "is_executing": true,
     "name": "#%%\n"
    }
   },
   "outputs": [],
   "source": [
    "import numpy as np\n",
    "import pandas as pd\n",
    "import matplotlib.pyplot as plt\n",
    "from sklearn.linear_model import LinearRegression\n",
    "from sklearn.model_selection import train_test_split\n",
    "from sklearn.metrics import r2_score, mean_squared_error\n",
    "import seaborn as sns\n",
    "%matplotlib inline\n"
   ]
  },
  {
   "cell_type": "code",
   "execution_count": 77,
   "metadata": {},
   "outputs": [
    {
     "name": "stdout",
     "output_type": "stream",
     "text": [
      "Seattle\n",
      "average price:  209.95969781245236\n",
      "occupancy rate (False: sold):  False    67.061002\n",
      "True     32.938998\n",
      "Name: price, dtype: float64\n",
      "Boston\n",
      "average price:  209.95969781245236\n",
      "occupancy rate (False: sold):  True     50.871578\n",
      "False    49.128422\n",
      "Name: price, dtype: float64\n"
     ]
    }
   ],
   "source": [
    "# read calendar seattle\n",
    "df_cal_s = pd.read_csv('./calendar_seattle.csv')\n",
    "\n",
    "# clean price values\n",
    "df_cal_tonum_s = df_cal_s['price'].replace({'\\$':''}, regex = True).dropna().squeeze()\n",
    "df_cal_tonum_s = pd.to_numeric(df_cal_tonum, errors='coerce')\n",
    "print('Seattle')\n",
    "print(\"average price: \",df_cal_tonum_s.mean())\n",
    "print(\"occupancy rate (False: sold): \", df_cal_s['price'].isna().value_counts() / len(df_cal_s['price']) * 100)\n",
    "\n",
    "# read calendar boston\n",
    "df_cal_b = pd.read_csv('./calendar_boston.csv')\n",
    "\n",
    "# clean 2017 data to make it comparable to seattle\n",
    "#df_cal_2016 = df_cal_b[~df_cal_b.date.str.contains(\"2017\")]\n",
    "#df_cal_b = df_cal_2016\n",
    "\n",
    "# clean price values\n",
    "df_cal_tonum_b = df_cal_b['price'].replace({'\\$':''}, regex = True).dropna().squeeze()\n",
    "df_cal_tonum_b = pd.to_numeric(df_cal_tonum_b, errors='coerce')\n",
    "print('Boston')\n",
    "print(\"average price: \",df_cal_tonum.mean())\n",
    "print(\"occupancy rate (False: sold): \", df_cal_b['price'].isna().value_counts() / len(df_cal_b['price']) * 100)\n",
    "\n",
    "\n"
   ]
  },
  {
   "cell_type": "code",
   "execution_count": 116,
   "metadata": {},
   "outputs": [
    {
     "name": "stdout",
     "output_type": "stream",
     "text": [
      "   listing_id        date available   price\n",
      "0      241032  2016-01-04         t  $85.00\n",
      "1      241032  2016-01-05         t  $85.00\n",
      "2      241032  2016-01-06         f     NaN\n",
      "3      241032  2016-01-07         f     NaN\n",
      "4      241032  2016-01-08         f     NaN\n"
     ]
    },
    {
     "data": {
      "text/plain": [
       "<matplotlib.legend.Legend at 0x1f1c5078e88>"
      ]
     },
     "execution_count": 116,
     "metadata": {},
     "output_type": "execute_result"
    },
    {
     "data": {
      "image/png": "[encoded data removed]",
      "text/plain": [
       "<Figure size 432x288 with 1 Axes>"
      ]
     },
     "metadata": {
      "needs_background": "light"
     },
     "output_type": "display_data"
    }
   ],
   "source": [
    "print(df_cal_s.head())\n",
    "df_b_date_price = df_cal_b[['date','price']]\n",
    "df_b_date_price = df_b_date_price.dropna(subset=['price'], axis=0)\n",
    "df_b_date_price['price'] = df_b_date_price['price'].replace({'\\$':''}, regex = True).dropna().squeeze()\n",
    "df_b_date_price['price'] = pd.to_numeric(df_b_date_price['price'], errors='coerce')\n",
    "#print(df_b_date_price.head())\n",
    "#print(df_s_date_price)\n",
    "df_b_date_price['date'] = pd.to_datetime(df_b_date_price[['date']].squeeze())\n",
    "df_b_date_price = df_b_date_price.set_index('date')\n",
    "#print(df_s_date_price.loc['2016-01-04'].mean())\n",
    "#print(df_s_date_price.groupby('date').mean())\n",
    "\n",
    "df_s_date_price = df_cal_s[['date','price']]\n",
    "df_s_date_price = df_s_date_price.dropna(subset=['price'], axis=0)\n",
    "df_s_date_price['price'] = df_s_date_price['price'].replace({'\\$':''}, regex = True).dropna().squeeze()\n",
    "df_s_date_price['price'] = pd.to_numeric(df_s_date_price['price'], errors='coerce')\n",
    "df_s_date_price['date'] = pd.to_datetime(df_s_date_price[['date']].squeeze())\n",
    "df_s_date_price = df_s_date_price.set_index('date')\n",
    "#print(df_s_date_price)\n",
    "#print(df_s_date_price.loc['2016-01-04'].mean())\n",
    "#print(df_s_date_price.groupby('date').mean())\n",
    "\n",
    "\n",
    "\n",
    "\n",
    "\n",
    "# Start and end of the date range to extract\n",
    "start, end = '2014-01', '2023-01'\n",
    "# Plot daily and weekly resampled time series together\n",
    "fig, ax = plt.subplots()\n",
    "\n",
    "ax.plot(df_s_date_price.loc[start:end, 'price'].groupby('date').mean(), marker='.', linestyle='-', linewidth=0.5, label='Seattle')\n",
    "ax.plot(df_b_date_price.loc[start:end, 'price'].groupby('date').mean(), marker='.', linestyle='-', markersize=1, label='Boston')\n",
    "\n",
    "ax.set_ylabel('avg Price Airbnb')\n",
    "ax.legend()"
   ]
  },
  {
   "cell_type": "code",
   "execution_count": 117,
   "metadata": {},
   "outputs": [],
   "source": [
    "def create_dummy_df(df, cat_cols, dummy_na):\n",
    "    '''\n",
    "    INPUT:\n",
    "    df - pandas dataframe with categorical variables you want to dummy\n",
    "    cat_cols - list of strings that are associated with names of the categorical columns\n",
    "    dummy_na - Bool holding whether you want to dummy NA vals of categorical columns or not\n",
    "    \n",
    "    OUTPUT:\n",
    "    df - a new dataframe that has the following characteristics:\n",
    "            1. contains all columns that were not specified as categorical\n",
    "            2. removes all the original columns in cat_cols\n",
    "            3. dummy columns for each of the categorical columns in cat_cols\n",
    "            4. if dummy_na is True - it also contains dummy columns for the NaN values\n",
    "            5. Use a prefix of the column name with an underscore (_) for separating \n",
    "    '''\n",
    "    for col in  cat_cols:\n",
    "        try:\n",
    "            # for each cat add dummy var, drop original column\n",
    "            df = pd.concat([df.drop(col, axis=1), pd.get_dummies(df[col], prefix=col, prefix_sep='_', drop_first=True, dummy_na=dummy_na)], axis=1)\n",
    "        except:\n",
    "            continue\n",
    "            \n",
    "    return df"
   ]
  },
  {
   "cell_type": "code",
   "execution_count": 45,
   "metadata": {},
   "outputs": [],
   "source": [
    "def clean_fit_linear_mod(df, response_col, cat_cols, dummy_na, test_size=.3, rand_state=42):\n",
    "    '''\n",
    "    INPUT:\n",
    "    df - a dataframe holding all the variables of interest\n",
    "    response_col - a string holding the name of the column \n",
    "    cat_cols - list of strings that are associated with names of the categorical columns\n",
    "    dummy_na - Bool holding whether you want to dummy NA vals of categorical columns or not\n",
    "    test_size - a float between [0,1] about what proportion of data should be in the test dataset\n",
    "    rand_state - an int that is provided as the random state for splitting the data into training and test \n",
    "    \n",
    "    OUTPUT:\n",
    "    test_score - float - r2 score on the test data\n",
    "    train_score - float - r2 score on the test data\n",
    "    lm_model - model object from sklearn\n",
    "    X_train, X_test, y_train, y_test - output from sklearn train test split used for optimal model\n",
    "    \n",
    "    Your function should:\n",
    "    1. Drop the rows with missing response values\n",
    "    2. Drop columns with NaN for all the values\n",
    "    3. Use create_dummy_df to dummy categorical columns\n",
    "    4. Fill the mean of the column for any missing values \n",
    "    5. Split your data into an X matrix and a response vector y\n",
    "    6. Create training and test sets of data\n",
    "    7. Instantiate a LinearRegression model with normalized data\n",
    "    8. Fit your model to the training data\n",
    "    9. Predict the response for the training data and the test data\n",
    "    10. Obtain an rsquared value for both the training and test data\n",
    "    '''\n",
    "    \n",
    "    #Drop the rows with missing response values\n",
    "    df  = df.dropna(subset=[response_col], axis=0)\n",
    "\n",
    "    #Drop columns with all NaN values\n",
    "    df = df.dropna(how='all', axis=1)\n",
    "\n",
    "    #Dummy categorical variables\n",
    "    df = create_dummy_df(df, cat_cols, dummy_na)\n",
    "\n",
    "    # Mean function\n",
    "    fill_mean = lambda col: col.fillna(col.mean())\n",
    "    # Fill the mean\n",
    "    df = df.apply(fill_mean, axis=0)\n",
    "        \n",
    "    #Split into explanatory and response variables\n",
    "    X = df.drop(columns=[response_col], axis=1)\n",
    "    y = df[response_col]\n",
    "\n",
    "    #Split into train and test\n",
    "    X_train, X_test, y_train, y_test = train_test_split(X, y, test_size=test_size, random_state=rand_state)\n",
    "\n",
    "    lm_model = LinearRegression(normalize=True) # Instantiate\n",
    "    lm_model.fit(X_train, y_train) #Fit\n",
    "\n",
    "    #Predict using your model\n",
    "    y_test_preds = lm_model.predict(X_test)\n",
    "    y_train_preds = lm_model.predict(X_train)\n",
    "\n",
    "    #Score using your model\n",
    "    test_score = r2_score(y_test, y_test_preds)\n",
    "    train_score = r2_score(y_train, y_train_preds)\n",
    "\n",
    "    return test_score, train_score, lm_model, X_train, X_test, y_train, y_test"
   ]
  },
  {
   "cell_type": "code",
   "execution_count": 46,
   "metadata": {},
   "outputs": [],
   "source": [
    "def coef_weights(coefficients, X_train):\n",
    "    '''\n",
    "    INPUT:\n",
    "    coefficients - the coefficients of the linear model \n",
    "    X_train - the training data, so the column names can be used\n",
    "    OUTPUT:\n",
    "    coefs_df - a dataframe holding the coefficient, estimate, and abs(estimate)\n",
    "    \n",
    "    Provides a dataframe that can be used to understand the most influential coefficients\n",
    "    in a linear model by providing the coefficient estimates along with the name of the \n",
    "    variable attached to the coefficient.\n",
    "    '''\n",
    "    coefs_df = pd.DataFrame()\n",
    "    coefs_df['est_int'] = X_train.columns\n",
    "    coefs_df['coefs'] = lm_model.coef_\n",
    "    coefs_df['abs_coefs'] = np.abs(lm_model.coef_)\n",
    "    coefs_df = coefs_df.sort_values('abs_coefs', ascending=False)\n",
    "    return coefs_df"
   ]
  },
  {
   "cell_type": "code",
   "execution_count": 56,
   "metadata": {},
   "outputs": [
    {
     "name": "stdout",
     "output_type": "stream",
     "text": [
      "test_score, train_score:  0.5167556323913027 0.5553330385785233\n",
      "                           est_int     coefs  abs_coefs\n",
      "6                        longitude  0.411494   0.411494\n",
      "21          review_scores_accuracy  0.195601   0.195601\n",
      "5                         latitude -0.140339   0.140339\n",
      "24     review_scores_communication  0.118131   0.118131\n",
      "25          review_scores_location  0.112746   0.112746\n",
      "20            review_scores_rating  0.050670   0.050670\n",
      "22       review_scores_cleanliness  0.050461   0.050461\n",
      "9                         bedrooms  0.046518   0.046518\n",
      "7                     accommodates -0.043908   0.043908\n",
      "10                            beds  0.038667   0.038667\n",
      "23           review_scores_checkin -0.019518   0.019518\n",
      "16                 availability_60  0.007010   0.007010\n",
      "8                        bathrooms -0.005097   0.005097\n",
      "26  calculated_host_listings_count -0.005088   0.005088\n",
      "15                 availability_30 -0.004624   0.004624\n",
      "17                 availability_90 -0.004201   0.004201\n",
      "27               reviews_per_month  0.003922   0.003922\n",
      "12                 guests_included -0.003803   0.003803\n",
      "19               number_of_reviews  0.000404   0.000404\n",
      "13                  minimum_nights -0.000136   0.000136\n",
      "test_score, train_score:  0.6264195514059143 0.6894278806386207\n",
      "                           est_int     coefs  abs_coefs\n",
      "5                         latitude -1.645226   1.645226\n",
      "21          review_scores_accuracy  0.185149   0.185149\n",
      "25          review_scores_location  0.154845   0.154845\n",
      "22       review_scores_cleanliness  0.111661   0.111661\n",
      "6                        longitude -0.096467   0.096467\n",
      "9                         bedrooms  0.071892   0.071892\n",
      "24     review_scores_communication  0.060579   0.060579\n",
      "20            review_scores_rating  0.049626   0.049626\n",
      "12                 guests_included -0.036864   0.036864\n",
      "23           review_scores_checkin -0.032605   0.032605\n",
      "10                            beds -0.015816   0.015816\n",
      "27               reviews_per_month  0.013521   0.013521\n",
      "7                     accommodates -0.008329   0.008329\n",
      "17                 availability_90 -0.004275   0.004275\n",
      "16                 availability_60  0.004155   0.004155\n",
      "26  calculated_host_listings_count -0.004091   0.004091\n",
      "8                        bathrooms  0.003485   0.003485\n",
      "15                 availability_30 -0.002690   0.002690\n",
      "13                  minimum_nights  0.002366   0.002366\n",
      "11                     square_feet -0.000499   0.000499\n"
     ]
    },
    {
     "data": {
      "image/png": "[encoded data removed]",
      "text/plain": [
       "<Figure size 432x288 with 2 Axes>"
      ]
     },
     "metadata": {
      "needs_background": "light"
     },
     "output_type": "display_data"
    },
    {
     "data": {
      "image/png": "[encoded data removed]",
      "text/plain": [
       "<Figure size 432x288 with 2 Axes>"
      ]
     },
     "metadata": {
      "needs_background": "light"
     },
     "output_type": "display_data"
    }
   ],
   "source": [
    "#Read in linstings data and store in a list\n",
    "df_lis_s = pd.read_csv('./listings_seattle.csv')\n",
    "df_lis_b = pd.read_csv('./listings_boston.csv')\n",
    "df_lists = [df_lis_s, df_lis_b]\n",
    "\n",
    "# Loop for seattle and boston\n",
    "for df_lis in df_lists:\n",
    "    \n",
    "    # Filter for categorical variables\n",
    "    df_new = df_lis.select_dtypes(include=[np.number])\n",
    "    cat_cols_lst = df_new.select_dtypes(include=['object']).columns\n",
    "\n",
    "    #Value of interest:\n",
    "    response_col = 'review_scores_value'\n",
    "    \n",
    "    #Clean and fit linear model\n",
    "    test_score, train_score, lm_model, X_train, X_test, y_train, y_test = clean_fit_linear_mod(df_new, 'review_scores_value', cat_cols_lst, dummy_na=False)\n",
    "    print(\"test_score, train_score: \", test_score, train_score)\n",
    "\n",
    "    #Calc the coef weights\n",
    "    coef_df = coef_weights(lm_model.coef_, X_train)\n",
    "\n",
    "    #Show the 20 most significant influencing variables\n",
    "    review_scores = ['review_scores_location','review_scores_rating','review_scores_cleanliness','review_scores_checkin', 'review_scores_accuracy','review_scores_communication']\n",
    "    print(coef_df.head(20))\n",
    "    coef_df.hist()"
   ]
  },
  {
   "cell_type": "code",
   "execution_count": null,
   "metadata": {},
   "outputs": [],
   "source": []
  }
 ],
 "metadata": {
  "kernelspec": {
   "display_name": "Python 3",
   "language": "python",
   "name": "python3"
  },
  "language_info": {
   "codemirror_mode": {
    "name": "ipython",
    "version": 3
   },
   "file_extension": ".py",
   "mimetype": "text/x-python",
   "name": "python",
   "nbconvert_exporter": "python",
   "pygments_lexer": "ipython3",
   "version": "3.7.6"
  },
  "pycharm": {
   "stem_cell": {
    "cell_type": "raw",
    "metadata": {
     "collapsed": false
    },
    "source": []
   }
  }
 },
 "nbformat": 4,
 "nbformat_minor": 4
}
